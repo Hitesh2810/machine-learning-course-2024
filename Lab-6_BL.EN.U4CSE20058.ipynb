{
  "cells": [
    {
      "cell_type": "code",
      "execution_count": 2,
      "metadata": {
        "id": "hOkBjwr9ek8t"
      },
      "outputs": [],
      "source": [
        "import pandas as pd\n",
        "import numpy as np\n",
        "import matplotlib.pyplot as plt\n",
        "import math\n",
        "import time"
      ]
    },
    {
      "cell_type": "code",
      "execution_count": 1,
      "metadata": {},
      "outputs": [
        {
          "data": {
            "text/html": [
              "<div>\n",
              "<style scoped>\n",
              "    .dataframe tbody tr th:only-of-type {\n",
              "        vertical-align: middle;\n",
              "    }\n",
              "\n",
              "    .dataframe tbody tr th {\n",
              "        vertical-align: top;\n",
              "    }\n",
              "\n",
              "    .dataframe thead th {\n",
              "        text-align: right;\n",
              "    }\n",
              "</style>\n",
              "<table border=\"1\" class=\"dataframe\">\n",
              "  <thead>\n",
              "    <tr style=\"text-align: right;\">\n",
              "      <th></th>\n",
              "      <th>BMI</th>\n",
              "      <th>4. Age (in years)</th>\n",
              "      <th>5. Height (in cms)</th>\n",
              "      <th>6. Weight (in kgs)</th>\n",
              "      <th>Financial insecurity faced due to lockdown</th>\n",
              "      <th>Is not being able to hangout and meet your friends and classmates in any way affecting your mental health?</th>\n",
              "      <th>quarantine impact</th>\n",
              "      <th>When did you have more free time?</th>\n",
              "      <th>How many days in a week do you practice meditation?</th>\n",
              "      <th>19. Out of the following, choose 5 tools which you use most often these days.</th>\n",
              "      <th>happy with online classes</th>\n",
              "      <th>How would you rate your mental well being ?</th>\n",
              "      <th>17. Average sleeping hours per day</th>\n",
              "      <th>6. How is online classes impacting your academic performance?</th>\n",
              "      <th>Posture related problems faced after attending online classes</th>\n",
              "      <th>Problems faced after attending online classestring_Count</th>\n",
              "      <th>mentalh_level</th>\n",
              "      <th>to</th>\n",
              "    </tr>\n",
              "  </thead>\n",
              "  <tbody>\n",
              "    <tr>\n",
              "      <th>0</th>\n",
              "      <td>27.887617</td>\n",
              "      <td>45</td>\n",
              "      <td>155.0</td>\n",
              "      <td>67.0</td>\n",
              "      <td>6</td>\n",
              "      <td>1</td>\n",
              "      <td>1</td>\n",
              "      <td>1</td>\n",
              "      <td>1</td>\n",
              "      <td>11</td>\n",
              "      <td>0</td>\n",
              "      <td>5</td>\n",
              "      <td>2</td>\n",
              "      <td>149</td>\n",
              "      <td>4</td>\n",
              "      <td>6</td>\n",
              "      <td>Bad</td>\n",
              "      <td>0.002789</td>\n",
              "    </tr>\n",
              "    <tr>\n",
              "      <th>1</th>\n",
              "      <td>26.609713</td>\n",
              "      <td>20</td>\n",
              "      <td>169.0</td>\n",
              "      <td>76.0</td>\n",
              "      <td>1</td>\n",
              "      <td>1</td>\n",
              "      <td>1</td>\n",
              "      <td>1</td>\n",
              "      <td>0</td>\n",
              "      <td>11</td>\n",
              "      <td>1</td>\n",
              "      <td>10</td>\n",
              "      <td>1</td>\n",
              "      <td>89</td>\n",
              "      <td>2</td>\n",
              "      <td>4</td>\n",
              "      <td>Good</td>\n",
              "      <td>0.002661</td>\n",
              "    </tr>\n",
              "    <tr>\n",
              "      <th>2</th>\n",
              "      <td>20.613131</td>\n",
              "      <td>23</td>\n",
              "      <td>151.0</td>\n",
              "      <td>47.0</td>\n",
              "      <td>3</td>\n",
              "      <td>1</td>\n",
              "      <td>1</td>\n",
              "      <td>0</td>\n",
              "      <td>0</td>\n",
              "      <td>11</td>\n",
              "      <td>1</td>\n",
              "      <td>5</td>\n",
              "      <td>2</td>\n",
              "      <td>129</td>\n",
              "      <td>3</td>\n",
              "      <td>9</td>\n",
              "      <td>Bad</td>\n",
              "      <td>0.002061</td>\n",
              "    </tr>\n",
              "    <tr>\n",
              "      <th>3</th>\n",
              "      <td>21.224490</td>\n",
              "      <td>19</td>\n",
              "      <td>175.0</td>\n",
              "      <td>65.0</td>\n",
              "      <td>2</td>\n",
              "      <td>1</td>\n",
              "      <td>0</td>\n",
              "      <td>0</td>\n",
              "      <td>0</td>\n",
              "      <td>12</td>\n",
              "      <td>0</td>\n",
              "      <td>7</td>\n",
              "      <td>3</td>\n",
              "      <td>152</td>\n",
              "      <td>5</td>\n",
              "      <td>5</td>\n",
              "      <td>Good</td>\n",
              "      <td>0.002122</td>\n",
              "    </tr>\n",
              "    <tr>\n",
              "      <th>4</th>\n",
              "      <td>17.959184</td>\n",
              "      <td>20</td>\n",
              "      <td>175.0</td>\n",
              "      <td>55.0</td>\n",
              "      <td>8</td>\n",
              "      <td>1</td>\n",
              "      <td>0</td>\n",
              "      <td>1</td>\n",
              "      <td>0</td>\n",
              "      <td>17</td>\n",
              "      <td>0</td>\n",
              "      <td>4</td>\n",
              "      <td>1</td>\n",
              "      <td>9</td>\n",
              "      <td>1</td>\n",
              "      <td>1</td>\n",
              "      <td>Bad</td>\n",
              "      <td>0.001796</td>\n",
              "    </tr>\n",
              "    <tr>\n",
              "      <th>...</th>\n",
              "      <td>...</td>\n",
              "      <td>...</td>\n",
              "      <td>...</td>\n",
              "      <td>...</td>\n",
              "      <td>...</td>\n",
              "      <td>...</td>\n",
              "      <td>...</td>\n",
              "      <td>...</td>\n",
              "      <td>...</td>\n",
              "      <td>...</td>\n",
              "      <td>...</td>\n",
              "      <td>...</td>\n",
              "      <td>...</td>\n",
              "      <td>...</td>\n",
              "      <td>...</td>\n",
              "      <td>...</td>\n",
              "      <td>...</td>\n",
              "      <td>...</td>\n",
              "    </tr>\n",
              "    <tr>\n",
              "      <th>184</th>\n",
              "      <td>17.474717</td>\n",
              "      <td>36</td>\n",
              "      <td>164.0</td>\n",
              "      <td>47.0</td>\n",
              "      <td>8</td>\n",
              "      <td>0</td>\n",
              "      <td>0</td>\n",
              "      <td>2</td>\n",
              "      <td>0</td>\n",
              "      <td>5</td>\n",
              "      <td>0</td>\n",
              "      <td>5</td>\n",
              "      <td>2</td>\n",
              "      <td>25</td>\n",
              "      <td>1</td>\n",
              "      <td>3</td>\n",
              "      <td>Bad</td>\n",
              "      <td>0.001747</td>\n",
              "    </tr>\n",
              "    <tr>\n",
              "      <th>185</th>\n",
              "      <td>16.528926</td>\n",
              "      <td>16</td>\n",
              "      <td>165.0</td>\n",
              "      <td>45.0</td>\n",
              "      <td>5</td>\n",
              "      <td>1</td>\n",
              "      <td>1</td>\n",
              "      <td>2</td>\n",
              "      <td>0</td>\n",
              "      <td>8</td>\n",
              "      <td>0</td>\n",
              "      <td>7</td>\n",
              "      <td>2</td>\n",
              "      <td>140</td>\n",
              "      <td>2</td>\n",
              "      <td>5</td>\n",
              "      <td>Good</td>\n",
              "      <td>0.001653</td>\n",
              "    </tr>\n",
              "    <tr>\n",
              "      <th>186</th>\n",
              "      <td>22.640865</td>\n",
              "      <td>37</td>\n",
              "      <td>153.0</td>\n",
              "      <td>53.0</td>\n",
              "      <td>4</td>\n",
              "      <td>1</td>\n",
              "      <td>0</td>\n",
              "      <td>0</td>\n",
              "      <td>3</td>\n",
              "      <td>12</td>\n",
              "      <td>1</td>\n",
              "      <td>8</td>\n",
              "      <td>3</td>\n",
              "      <td>31</td>\n",
              "      <td>1</td>\n",
              "      <td>3</td>\n",
              "      <td>Good</td>\n",
              "      <td>0.002264</td>\n",
              "    </tr>\n",
              "    <tr>\n",
              "      <th>187</th>\n",
              "      <td>20.811655</td>\n",
              "      <td>19</td>\n",
              "      <td>155.0</td>\n",
              "      <td>50.0</td>\n",
              "      <td>1</td>\n",
              "      <td>1</td>\n",
              "      <td>0</td>\n",
              "      <td>2</td>\n",
              "      <td>0</td>\n",
              "      <td>16</td>\n",
              "      <td>0</td>\n",
              "      <td>6</td>\n",
              "      <td>2</td>\n",
              "      <td>54</td>\n",
              "      <td>6</td>\n",
              "      <td>8</td>\n",
              "      <td>Good</td>\n",
              "      <td>0.002081</td>\n",
              "    </tr>\n",
              "    <tr>\n",
              "      <th>188</th>\n",
              "      <td>22.313278</td>\n",
              "      <td>14</td>\n",
              "      <td>157.0</td>\n",
              "      <td>55.0</td>\n",
              "      <td>5</td>\n",
              "      <td>1</td>\n",
              "      <td>0</td>\n",
              "      <td>0</td>\n",
              "      <td>0</td>\n",
              "      <td>14</td>\n",
              "      <td>0</td>\n",
              "      <td>5</td>\n",
              "      <td>3</td>\n",
              "      <td>147</td>\n",
              "      <td>8</td>\n",
              "      <td>8</td>\n",
              "      <td>Bad</td>\n",
              "      <td>0.002231</td>\n",
              "    </tr>\n",
              "  </tbody>\n",
              "</table>\n",
              "<p>189 rows × 18 columns</p>\n",
              "</div>"
            ],
            "text/plain": [
              "           BMI  4. Age (in years)  5. Height (in cms)  6. Weight (in kgs)  \\\n",
              "0    27.887617                 45               155.0                67.0   \n",
              "1    26.609713                 20               169.0                76.0   \n",
              "2    20.613131                 23               151.0                47.0   \n",
              "3    21.224490                 19               175.0                65.0   \n",
              "4    17.959184                 20               175.0                55.0   \n",
              "..         ...                ...                 ...                 ...   \n",
              "184  17.474717                 36               164.0                47.0   \n",
              "185  16.528926                 16               165.0                45.0   \n",
              "186  22.640865                 37               153.0                53.0   \n",
              "187  20.811655                 19               155.0                50.0   \n",
              "188  22.313278                 14               157.0                55.0   \n",
              "\n",
              "      Financial insecurity faced due to lockdown  \\\n",
              "0                                              6   \n",
              "1                                              1   \n",
              "2                                              3   \n",
              "3                                              2   \n",
              "4                                              8   \n",
              "..                                           ...   \n",
              "184                                            8   \n",
              "185                                            5   \n",
              "186                                            4   \n",
              "187                                            1   \n",
              "188                                            5   \n",
              "\n",
              "     Is not being able to hangout and meet your friends and classmates in any way affecting your mental health?  \\\n",
              "0                                                    1                                                            \n",
              "1                                                    1                                                            \n",
              "2                                                    1                                                            \n",
              "3                                                    1                                                            \n",
              "4                                                    1                                                            \n",
              "..                                                 ...                                                            \n",
              "184                                                  0                                                            \n",
              "185                                                  1                                                            \n",
              "186                                                  1                                                            \n",
              "187                                                  1                                                            \n",
              "188                                                  1                                                            \n",
              "\n",
              "     quarantine impact  When did you have more free time?  \\\n",
              "0                    1                                  1   \n",
              "1                    1                                  1   \n",
              "2                    1                                  0   \n",
              "3                    0                                  0   \n",
              "4                    0                                  1   \n",
              "..                 ...                                ...   \n",
              "184                  0                                  2   \n",
              "185                  1                                  2   \n",
              "186                  0                                  0   \n",
              "187                  0                                  2   \n",
              "188                  0                                  0   \n",
              "\n",
              "      How many days in a week do you practice meditation?  \\\n",
              "0                                                    1      \n",
              "1                                                    0      \n",
              "2                                                    0      \n",
              "3                                                    0      \n",
              "4                                                    0      \n",
              "..                                                 ...      \n",
              "184                                                  0      \n",
              "185                                                  0      \n",
              "186                                                  3      \n",
              "187                                                  0      \n",
              "188                                                  0      \n",
              "\n",
              "     19. Out of the following, choose 5 tools which you use most often these days.  \\\n",
              "0                                                   11                               \n",
              "1                                                   11                               \n",
              "2                                                   11                               \n",
              "3                                                   12                               \n",
              "4                                                   17                               \n",
              "..                                                 ...                               \n",
              "184                                                  5                               \n",
              "185                                                  8                               \n",
              "186                                                 12                               \n",
              "187                                                 16                               \n",
              "188                                                 14                               \n",
              "\n",
              "     happy with online classes  How would you rate your mental well being ?  \\\n",
              "0                            0                                            5   \n",
              "1                            1                                           10   \n",
              "2                            1                                            5   \n",
              "3                            0                                            7   \n",
              "4                            0                                            4   \n",
              "..                         ...                                          ...   \n",
              "184                          0                                            5   \n",
              "185                          0                                            7   \n",
              "186                          1                                            8   \n",
              "187                          0                                            6   \n",
              "188                          0                                            5   \n",
              "\n",
              "     17. Average sleeping hours per day  \\\n",
              "0                                     2   \n",
              "1                                     1   \n",
              "2                                     2   \n",
              "3                                     3   \n",
              "4                                     1   \n",
              "..                                  ...   \n",
              "184                                   2   \n",
              "185                                   2   \n",
              "186                                   3   \n",
              "187                                   2   \n",
              "188                                   3   \n",
              "\n",
              "     6. How is online classes impacting your academic performance?  \\\n",
              "0                                                  149               \n",
              "1                                                   89               \n",
              "2                                                  129               \n",
              "3                                                  152               \n",
              "4                                                    9               \n",
              "..                                                 ...               \n",
              "184                                                 25               \n",
              "185                                                140               \n",
              "186                                                 31               \n",
              "187                                                 54               \n",
              "188                                                147               \n",
              "\n",
              "     Posture related problems faced after attending online classes  \\\n",
              "0                                                    4               \n",
              "1                                                    2               \n",
              "2                                                    3               \n",
              "3                                                    5               \n",
              "4                                                    1               \n",
              "..                                                 ...               \n",
              "184                                                  1               \n",
              "185                                                  2               \n",
              "186                                                  1               \n",
              "187                                                  6               \n",
              "188                                                  8               \n",
              "\n",
              "     Problems faced after attending online classestring_Count mentalh_level  \\\n",
              "0                                                    6                  Bad   \n",
              "1                                                    4                 Good   \n",
              "2                                                    9                  Bad   \n",
              "3                                                    5                 Good   \n",
              "4                                                    1                  Bad   \n",
              "..                                                 ...                  ...   \n",
              "184                                                  3                  Bad   \n",
              "185                                                  5                 Good   \n",
              "186                                                  3                 Good   \n",
              "187                                                  8                 Good   \n",
              "188                                                  8                  Bad   \n",
              "\n",
              "           to  \n",
              "0    0.002789  \n",
              "1    0.002661  \n",
              "2    0.002061  \n",
              "3    0.002122  \n",
              "4    0.001796  \n",
              "..        ...  \n",
              "184  0.001747  \n",
              "185  0.001653  \n",
              "186  0.002264  \n",
              "187  0.002081  \n",
              "188  0.002231  \n",
              "\n",
              "[189 rows x 18 columns]"
            ]
          },
          "execution_count": 1,
          "metadata": {},
          "output_type": "execute_result"
        }
      ],
      "source": [
        "import pandas as pd\n",
        "import numpy as np\n",
        "df=pd.read_excel(\"F:\\\\Amrita\\\\5th semester_2024\\\\Machine Learning\\\\preprocessed_data_final.xlsx\")\n",
        "df\n"
      ]
    },
    {
      "cell_type": "code",
      "execution_count": 4,
      "metadata": {
        "id": "budvGmqffZ2V"
      },
      "outputs": [],
      "source": [
        "Dataframe = [[1,0,0,0],[1,0,1,0],[1,1,0,0],[1,1,1,1]]\n",
        "And_table = pd.DataFrame(Dataframe,columns=['one','A','B','result'])"
      ]
    },
    {
      "cell_type": "code",
      "execution_count": 31,
      "metadata": {
        "colab": {
          "base_uri": "https://localhost:8080/",
          "height": 173
        },
        "id": "9buT8XOlgnWv",
        "outputId": "6d056399-b698-4bcf-8180-94147594a4a5"
      },
      "outputs": [
        {
          "data": {
            "text/html": [
              "<div>\n",
              "<style scoped>\n",
              "    .dataframe tbody tr th:only-of-type {\n",
              "        vertical-align: middle;\n",
              "    }\n",
              "\n",
              "    .dataframe tbody tr th {\n",
              "        vertical-align: top;\n",
              "    }\n",
              "\n",
              "    .dataframe thead th {\n",
              "        text-align: right;\n",
              "    }\n",
              "</style>\n",
              "<table border=\"1\" class=\"dataframe\">\n",
              "  <thead>\n",
              "    <tr style=\"text-align: right;\">\n",
              "      <th></th>\n",
              "      <th>one</th>\n",
              "      <th>A</th>\n",
              "      <th>B</th>\n",
              "      <th>result</th>\n",
              "    </tr>\n",
              "  </thead>\n",
              "  <tbody>\n",
              "    <tr>\n",
              "      <th>0</th>\n",
              "      <td>1</td>\n",
              "      <td>0</td>\n",
              "      <td>0</td>\n",
              "      <td>0</td>\n",
              "    </tr>\n",
              "    <tr>\n",
              "      <th>1</th>\n",
              "      <td>1</td>\n",
              "      <td>0</td>\n",
              "      <td>1</td>\n",
              "      <td>0</td>\n",
              "    </tr>\n",
              "    <tr>\n",
              "      <th>2</th>\n",
              "      <td>1</td>\n",
              "      <td>1</td>\n",
              "      <td>0</td>\n",
              "      <td>0</td>\n",
              "    </tr>\n",
              "    <tr>\n",
              "      <th>3</th>\n",
              "      <td>1</td>\n",
              "      <td>1</td>\n",
              "      <td>1</td>\n",
              "      <td>1</td>\n",
              "    </tr>\n",
              "  </tbody>\n",
              "</table>\n",
              "</div>"
            ],
            "text/plain": [
              "   one  A  B  result\n",
              "0    1  0  0       0\n",
              "1    1  0  1       0\n",
              "2    1  1  0       0\n",
              "3    1  1  1       1"
            ]
          },
          "execution_count": 31,
          "metadata": {},
          "output_type": "execute_result"
        }
      ],
      "source": [
        "And_table"
      ]
    },
    {
      "cell_type": "code",
      "execution_count": 32,
      "metadata": {
        "id": "co19Cf3ogOTR"
      },
      "outputs": [],
      "source": [
        "def step_function(x):\n",
        "  if x>0:\n",
        "    return 1\n",
        "  else:\n",
        "    return 0"
      ]
    },
    {
      "cell_type": "code",
      "execution_count": 33,
      "metadata": {
        "id": "G8sAsLydrCHK"
      },
      "outputs": [],
      "source": [
        "def bipolar_function(x):\n",
        "  if x>0:\n",
        "    return 1\n",
        "  elif x == 0:\n",
        "    return 0\n",
        "  else:\n",
        "    return -1"
      ]
    },
    {
      "cell_type": "code",
      "execution_count": 34,
      "metadata": {
        "id": "GdWdSeU2wL_k"
      },
      "outputs": [],
      "source": [
        "def sigmoid_function(x):\n",
        "  return (1/(1+(math.e**-x)))"
      ]
    },
    {
      "cell_type": "code",
      "execution_count": 35,
      "metadata": {
        "id": "51yIyK8k0zcs"
      },
      "outputs": [],
      "source": [
        "def relu(x):\n",
        "  if x>0:\n",
        "    return x\n",
        "  else:\n",
        "    return 0\n",
        "    "
      ]
    },
    {
      "cell_type": "code",
      "execution_count": 36,
      "metadata": {
        "id": "3x9H8uHRhnzN"
      },
      "outputs": [],
      "source": [
        "def summation_unit(x0,x1,x2,w0,w1,w2):\n",
        "  return (x0*w0)+(x1*w1)+(x2*w2)"
      ]
    },
    {
      "cell_type": "code",
      "execution_count": 38,
      "metadata": {
        "colab": {
          "base_uri": "https://localhost:8080/",
          "height": 435
        },
        "id": "1Ef4MnBAhG22",
        "outputId": "b2c95413-d60e-4f29-9996-a49cb01a5c42"
      },
      "outputs": [
        {
          "name": "stdout",
          "output_type": "stream",
          "text": [
            "epoch count :  20\n"
          ]
        },
        {
          "data": {
            "image/png": "[encoded data removed]",
            "text/plain": [
              "<Figure size 640x480 with 1 Axes>"
            ]
          },
          "metadata": {},
          "output_type": "display_data"
        },
        {
          "name": "stdout",
          "output_type": "stream",
          "text": [
            "weights ==> w0 :  -1.5  w1 :  1.2  w2 :  0.75\n",
            "Calculated output :  0\n",
            "Real output :  0\n",
            "Calculated output :  0\n",
            "Real output :  0\n",
            "Calculated output :  0\n",
            "Real output :  0\n",
            "Calculated output :  1\n",
            "Real output :  1\n"
          ]
        }
      ],
      "source": [
        "w0 = 10\n",
        "w1 = 0.2\n",
        "w2 = -0.75\n",
        "\n",
        "learning_rate = 0.5\n",
        "\n",
        "Epoch_count = 0\n",
        "Epoches = []\n",
        "Sum_score_error = []\n",
        "\n",
        "while Epoch_count<100:\n",
        "  Error = 0\n",
        "  for index,row in And_table.iterrows():\n",
        "    if step_function(summation_unit(row['one'],row['A'],row['B'],w0,w1,w2)) != row['result']:\n",
        "      e = row['result'] - step_function(summation_unit(row['one'],row['A'],row['B'],w0,w1,w2))\n",
        "      w0 += (learning_rate*e*row['one'])\n",
        "      w1 += (learning_rate*e*row['A'])\n",
        "      w2 += (learning_rate*e*row['B'])\n",
        "      Error += e**2\n",
        "  Epoches.append(Epoch_count)\n",
        "  Epoch_count += 1\n",
        "  Sum_score_error.append(Error)\n",
        "  if Error<0.002:\n",
        "    print(\"epoch count : \",Epoch_count)\n",
        "    break\n",
        "\n",
        "plt.plot(Epoches,Sum_score_error)\n",
        "plt.show()\n",
        "\n",
        "print(\"weights ==> w0 : \",w0,\" w1 : \",w1,\" w2 : \",w2)\n",
        "for index,row in And_table.iterrows():\n",
        "  print(\"Calculated output : \",step_function(summation_unit(row['one'],row['A'],row['B'],w0,w1,w2)))\n",
        "  print(\"Real output : \",row['result'])"
      ]
    },
    {
      "cell_type": "code",
      "execution_count": 39,
      "metadata": {
        "colab": {
          "base_uri": "https://localhost:8080/",
          "height": 418
        },
        "id": "J_UR-ZUD0XIy",
        "outputId": "ee4ffc9a-ced8-4a38-9efa-aa4908447df3"
      },
      "outputs": [
        {
          "data": {
            "image/png": "[encoded data removed]",
            "text/plain": [
              "<Figure size 640x480 with 1 Axes>"
            ]
          },
          "metadata": {},
          "output_type": "display_data"
        },
        {
          "name": "stdout",
          "output_type": "stream",
          "text": [
            "weights ==> w0 :  -0.5  w1 :  1.2  w2 :  0.25\n",
            "calculated output :  -1\n",
            "real output :  0\n",
            "calculated output :  -1\n",
            "real output :  0\n",
            "calculated output :  1\n",
            "real output :  0\n",
            "calculated output :  1\n",
            "real output :  1\n"
          ]
        }
      ],
      "source": [
        "w0 = 10\n",
        "w1 = 0.2\n",
        "w2 = -0.75\n",
        "\n",
        "learning_rate = 0.5\n",
        "\n",
        "Epoch_count = 0\n",
        "Epoches = []\n",
        "Sum_square_error = []\n",
        "\n",
        "while Epoch_count<1000:\n",
        "  Error = 0\n",
        "  for index,row in And_table.iterrows():\n",
        "    if bipolar_function(summation_unit(row['one'],row['A'],row['B'],w0,w1,w2)) != row['result']:\n",
        "      e = row['result'] - bipolar_function(summation_unit(row['one'],row['A'],row['B'],w0,w1,w2))\n",
        "      w0 += (learning_rate*e*row['one'])\n",
        "      w1 += (learning_rate*e*row['A'])\n",
        "      w2 += (learning_rate*e*row['B'])\n",
        "      Error += e**2\n",
        "  Epoches.append(Epoch_count)\n",
        "  Epoch_count += 1\n",
        "  Sum_square_error.append(Error)\n",
        "  if Error<0.002:\n",
        "    print(\"epoch count : \",Epoch_count)\n",
        "    break\n",
        "\n",
        "plt.plot(Epoches,Sum_square_error)\n",
        "plt.show()\n",
        "\n",
        "print(\"weights ==> w0 : \",w0,\" w1 : \",w1,\" w2 : \",w2)\n",
        "for index,row in And_table.iterrows():\n",
        "  print(\"calculated output : \",bipolar_function(summation_unit(row['one'],row['A'],row['B'],w0,w1,w2)))\n",
        "  print(\"real output : \",row['result'])"
      ]
    },
    {
      "cell_type": "code",
      "execution_count": 40,
      "metadata": {
        "colab": {
          "base_uri": "https://localhost:8080/",
          "height": 435
        },
        "id": "kx6Ejixzl4Fm",
        "outputId": "1b11ee34-8444-419f-8bfd-6679d7e89231"
      },
      "outputs": [
        {
          "name": "stdout",
          "output_type": "stream",
          "text": [
            "epoch count :  452\n"
          ]
        },
        {
          "data": {
            "image/png": "[encoded data removed]",
            "text/plain": [
              "<Figure size 640x480 with 1 Axes>"
            ]
          },
          "metadata": {},
          "output_type": "display_data"
        },
        {
          "name": "stdout",
          "output_type": "stream",
          "text": [
            "weights ==> w0 :  -11.014064464560434  w1 :  7.251651917633867  w2 :  7.237613596313015\n",
            "calculated output :  1.6468173263824202e-05\n",
            "real output :  0\n",
            "calculated output :  0.02239099636495462\n",
            "real output :  0\n",
            "calculated output :  0.02270035930480699\n",
            "real output :  0\n",
            "calculated output :  0.969973867639686\n",
            "real output :  1\n"
          ]
        }
      ],
      "source": [
        "w0 = 10\n",
        "w1 = 0.2\n",
        "w2 = -0.75\n",
        "\n",
        "learning_rate = 0.5\n",
        "\n",
        "Epoch_count = 0\n",
        "Epoches = []\n",
        "Sum_square_error = []\n",
        "\n",
        "while Epoch_count<1000:\n",
        "  Error = 0\n",
        "  for index,row in And_table.iterrows():\n",
        "    if sigmoid_function(summation_unit(row['one'],row['A'],row['B'],w0,w1,w2)) != row['result']:\n",
        "      e = row['result'] - sigmoid_function(summation_unit(row['one'],row['A'],row['B'],w0,w1,w2))\n",
        "      w0 += (learning_rate*e*row['one'])\n",
        "      w1 += (learning_rate*e*row['A'])\n",
        "      w2 += (learning_rate*e*row['B'])\n",
        "      Error += e**2\n",
        "  Epoches.append(Epoch_count)\n",
        "  Epoch_count += 1\n",
        "  Sum_square_error.append(Error)\n",
        "  if Error<0.002:\n",
        "    print(\"epoch count : \",Epoch_count)\n",
        "    break\n",
        "\n",
        "plt.plot(Epoches,Sum_square_error)\n",
        "plt.show()\n",
        "\n",
        "print(\"weights ==> w0 : \",w0,\" w1 : \",w1,\" w2 : \",w2)\n",
        "for index,row in And_table.iterrows():\n",
        "  print(\"calculated output : \",sigmoid_function(summation_unit(row['one'],row['A'],row['B'],w0,w1,w2)))\n",
        "  print(\"real output : \",row['result'])"
      ]
    },
    {
      "cell_type": "code",
      "execution_count": 41,
      "metadata": {
        "colab": {
          "base_uri": "https://localhost:8080/",
          "height": 435
        },
        "id": "L3PLcIUmvrQl",
        "outputId": "36d31316-de13-402e-fdc1-350ece91eb77"
      },
      "outputs": [
        {
          "name": "stdout",
          "output_type": "stream",
          "text": [
            "epoch count :  21\n"
          ]
        },
        {
          "data": {
            "image/png": "[encoded data removed]",
            "text/plain": [
              "<Figure size 640x480 with 1 Axes>"
            ]
          },
          "metadata": {},
          "output_type": "display_data"
        },
        {
          "name": "stdout",
          "output_type": "stream",
          "text": [
            "weights ==> w0 :  -0.9744791024733841  w1 :  0.9999852734617889  w2 :  0.9872469145057976\n",
            "calculated output :  0\n",
            "real output :  0\n",
            "calculated output :  0.012767812032413506\n",
            "real output :  0\n",
            "calculated output :  0.025506170988404797\n",
            "real output :  0\n",
            "calculated output :  1.0127530854942024\n",
            "real output :  1\n"
          ]
        }
      ],
      "source": [
        "w0 = 10\n",
        "w1 = 0.2\n",
        "w2 = -0.75\n",
        "\n",
        "learning_rate = 0.5\n",
        "\n",
        "Epoch_count = 0\n",
        "Epoches = []\n",
        "Sum_square_error = []\n",
        "\n",
        "while Epoch_count<1000:\n",
        "  Error = 0\n",
        "  for index,row in And_table.iterrows():\n",
        "    if relu(summation_unit(row['one'],row['A'],row['B'],w0,w1,w2)) != row['result']:\n",
        "      e = row['result'] - relu(summation_unit(row['one'],row['A'],row['B'],w0,w1,w2))\n",
        "      w0 += (learning_rate*e*row['one'])\n",
        "      w1 += (learning_rate*e*row['A'])\n",
        "      w2 += (learning_rate*e*row['B'])\n",
        "      Error += e**2\n",
        "  Epoches.append(Epoch_count)\n",
        "  Epoch_count += 1\n",
        "  Sum_square_error.append(Error)\n",
        "  if Error<0.002:\n",
        "    print(\"epoch count : \",Epoch_count)\n",
        "    break\n",
        "\n",
        "plt.plot(Epoches,Sum_square_error)\n",
        "plt.show()\n",
        "\n",
        "print(\"weights ==> w0 : \",w0,\" w1 : \",w1,\" w2 : \",w2)\n",
        "for index,row in And_table.iterrows():\n",
        "  print(\"calculated output : \",relu(summation_unit(row['one'],row['A'],row['B'],w0,w1,w2)))\n",
        "  print(\"real output : \",row['result'])"
      ]
    },
    {
      "cell_type": "code",
      "execution_count": 42,
      "metadata": {
        "colab": {
          "base_uri": "https://localhost:8080/",
          "height": 267
        },
        "id": "Ai8nntfjv_XS",
        "outputId": "2bd93729-2096-4506-b5ca-084bc291adf5"
      },
      "outputs": [
        {
          "data": {
            "image/png": "[encoded data removed]",
            "text/plain": [
              "<Figure size 640x480 with 1 Axes>"
            ]
          },
          "metadata": {},
          "output_type": "display_data"
        }
      ],
      "source": [
        "learning_rates = [0.1, 0.2, 0.3, 0.4, 0.5, 0.6, 0.7, 0.8, 0.9,1]\n",
        "number_of_epoches = []\n",
        "for i in learning_rates:\n",
        "  w0 = 10\n",
        "  w1 = 0.2\n",
        "  w2 = -0.75\n",
        "  learning_rate = i\n",
        "  Epoch_count = 0\n",
        "  Epoches = []\n",
        "  sum_square_error = []\n",
        "  while Epoch_count<100:\n",
        "    Error = 0\n",
        "    for index,row in And_table.iterrows():\n",
        "      if step_function(summation_unit(row['one'],row['A'],row['B'],w0,w1,w2)) != row['result']:\n",
        "        e = row['result'] - step_function(summation_unit(row['one'],row['A'],row['B'],w0,w1,w2))\n",
        "        w0 += (learning_rate*e*row['one'])\n",
        "        w1 += (learning_rate*e*row['A'])\n",
        "        w2 += (learning_rate*e*row['B'])\n",
        "        Error += e**2\n",
        "    Epoches.append(Epoch_count)\n",
        "    Epoch_count += 1\n",
        "    sum_square_error.append(Error)\n",
        "    if Error<0.002:\n",
        "      number_of_epoches.append(Epoch_count)\n",
        "      break\n",
        "\n",
        "plt.plot(learning_rates,number_of_epoches)\n",
        "plt.show()"
      ]
    },
    {
      "cell_type": "code",
      "execution_count": 14,
      "metadata": {
        "id": "RICRg6ue19SR"
      },
      "outputs": [],
      "source": [
        "Xor = [[1,0,0,0],[1,0,1,1],[1,1,0,1],[1,1,1,0]]\n",
        "xor_table = pd.DataFrame(Xor,columns=['one','A','B','result'])"
      ]
    },
    {
      "cell_type": "code",
      "execution_count": 15,
      "metadata": {
        "colab": {
          "base_uri": "https://localhost:8080/",
          "height": 173
        },
        "id": "ztrgxQJ0iNTg",
        "outputId": "1a208333-7bc2-4e91-dec4-91fe529f5d7e"
      },
      "outputs": [
        {
          "data": {
            "text/html": [
              "<div>\n",
              "<style scoped>\n",
              "    .dataframe tbody tr th:only-of-type {\n",
              "        vertical-align: middle;\n",
              "    }\n",
              "\n",
              "    .dataframe tbody tr th {\n",
              "        vertical-align: top;\n",
              "    }\n",
              "\n",
              "    .dataframe thead th {\n",
              "        text-align: right;\n",
              "    }\n",
              "</style>\n",
              "<table border=\"1\" class=\"dataframe\">\n",
              "  <thead>\n",
              "    <tr style=\"text-align: right;\">\n",
              "      <th></th>\n",
              "      <th>one</th>\n",
              "      <th>A</th>\n",
              "      <th>B</th>\n",
              "      <th>result</th>\n",
              "    </tr>\n",
              "  </thead>\n",
              "  <tbody>\n",
              "    <tr>\n",
              "      <th>0</th>\n",
              "      <td>1</td>\n",
              "      <td>0</td>\n",
              "      <td>0</td>\n",
              "      <td>0</td>\n",
              "    </tr>\n",
              "    <tr>\n",
              "      <th>1</th>\n",
              "      <td>1</td>\n",
              "      <td>0</td>\n",
              "      <td>1</td>\n",
              "      <td>1</td>\n",
              "    </tr>\n",
              "    <tr>\n",
              "      <th>2</th>\n",
              "      <td>1</td>\n",
              "      <td>1</td>\n",
              "      <td>0</td>\n",
              "      <td>1</td>\n",
              "    </tr>\n",
              "    <tr>\n",
              "      <th>3</th>\n",
              "      <td>1</td>\n",
              "      <td>1</td>\n",
              "      <td>1</td>\n",
              "      <td>0</td>\n",
              "    </tr>\n",
              "  </tbody>\n",
              "</table>\n",
              "</div>"
            ],
            "text/plain": [
              "   one  A  B  result\n",
              "0    1  0  0       0\n",
              "1    1  0  1       1\n",
              "2    1  1  0       1\n",
              "3    1  1  1       0"
            ]
          },
          "execution_count": 15,
          "metadata": {},
          "output_type": "execute_result"
        }
      ],
      "source": [
        "xor_table"
      ]
    },
    {
      "cell_type": "code",
      "execution_count": 16,
      "metadata": {
        "colab": {
          "base_uri": "https://localhost:8080/",
          "height": 418
        },
        "id": "YsZ4AdDLhuZC",
        "outputId": "94eaa4da-e867-4d15-fd61-91ce50dc0643"
      },
      "outputs": [
        {
          "data": {
            "image/png": "[encoded data removed]",
            "text/plain": [
              "<Figure size 640x480 with 1 Axes>"
            ]
          },
          "metadata": {},
          "output_type": "display_data"
        },
        {
          "name": "stdout",
          "output_type": "stream",
          "text": [
            "weights ==> w0 :  0.5  w1 :  -0.5  w2 :  0.0\n",
            "calculated output :  1\n",
            "real output :  0\n",
            "calculated output :  1\n",
            "real output :  1\n",
            "calculated output :  0\n",
            "real output :  1\n",
            "calculated output :  0\n",
            "real output :  0\n"
          ]
        }
      ],
      "source": [
        "w0 = 1\n",
        "w1 = 1\n",
        "w2 = 1\n",
        "\n",
        "learning_rate = 0.5\n",
        "\n",
        "epoch_count = 0\n",
        "epoches = []\n",
        "sum_square_error = []\n",
        "\n",
        "while epoch_count<10000:\n",
        "  error = 0\n",
        "  for index,row in xor_table.iterrows():\n",
        "    if step_function(summation_unit(row['one'],row['A'],row['B'],w0,w1,w2)) != row['result']:\n",
        "      e = row['result'] - step_function(summation_unit(row['one'],row['A'],row['B'],w0,w1,w2))\n",
        "      w0 += (learning_rate*e*row['one'])\n",
        "      w1 += (learning_rate*e*row['A'])\n",
        "      w2 += (learning_rate*e*row['B'])\n",
        "      error += e**2\n",
        "  epoches.append(epoch_count)\n",
        "  epoch_count += 1\n",
        "  sum_square_error.append(error)\n",
        "  if error<0.002:\n",
        "    print(\"epoch count : \",epoch_count)\n",
        "    break\n",
        "\n",
        "plt.plot(epoches,sum_square_error)\n",
        "plt.show()\n",
        "\n",
        "print(\"weights ==> w0 : \",w0,\" w1 : \",w1,\" w2 : \",w2)\n",
        "for index,row in xor_table.iterrows():\n",
        "  print(\"calculated output : \",step_function(summation_unit(row['one'],row['A'],row['B'],w0,w1,w2)))\n",
        "  print(\"real output : \",row['result'])"
      ]
    },
    {
      "cell_type": "code",
      "execution_count": 20,
      "metadata": {
        "id": "FjPKhoPQiAFg"
      },
      "outputs": [],
      "source": [
        "L1_dataframe = pd.read_csv('F:\\\\Amrita\\\\5th Semester\\\\Machine Learning\\\\Lab\\\\Lab-1\\\\Sheet-2.csv')\n",
        "L1_dataframe = L1_dataframe.dropna(axis=1)"
      ]
    },
    {
      "cell_type": "code",
      "execution_count": 21,
      "metadata": {
        "colab": {
          "base_uri": "https://localhost:8080/",
          "height": 204
        },
        "id": "vsEAFIKuAmCD",
        "outputId": "d204f56a-f464-431a-9176-db703688a192"
      },
      "outputs": [
        {
          "data": {
            "text/html": [
              "<div>\n",
              "<style scoped>\n",
              "    .dataframe tbody tr th:only-of-type {\n",
              "        vertical-align: middle;\n",
              "    }\n",
              "\n",
              "    .dataframe tbody tr th {\n",
              "        vertical-align: top;\n",
              "    }\n",
              "\n",
              "    .dataframe thead th {\n",
              "        text-align: right;\n",
              "    }\n",
              "</style>\n",
              "<table border=\"1\" class=\"dataframe\">\n",
              "  <thead>\n",
              "    <tr style=\"text-align: right;\">\n",
              "      <th></th>\n",
              "      <th>Customer</th>\n",
              "      <th>Candies (#)</th>\n",
              "      <th>Mangoes (Kg)</th>\n",
              "      <th>Milk Packets (#)</th>\n",
              "      <th>Payment (Rs)</th>\n",
              "    </tr>\n",
              "  </thead>\n",
              "  <tbody>\n",
              "    <tr>\n",
              "      <th>0</th>\n",
              "      <td>C_1</td>\n",
              "      <td>20</td>\n",
              "      <td>6</td>\n",
              "      <td>2</td>\n",
              "      <td>386</td>\n",
              "    </tr>\n",
              "    <tr>\n",
              "      <th>1</th>\n",
              "      <td>C_2</td>\n",
              "      <td>16</td>\n",
              "      <td>3</td>\n",
              "      <td>6</td>\n",
              "      <td>289</td>\n",
              "    </tr>\n",
              "    <tr>\n",
              "      <th>2</th>\n",
              "      <td>C_3</td>\n",
              "      <td>27</td>\n",
              "      <td>6</td>\n",
              "      <td>2</td>\n",
              "      <td>393</td>\n",
              "    </tr>\n",
              "    <tr>\n",
              "      <th>3</th>\n",
              "      <td>C_4</td>\n",
              "      <td>19</td>\n",
              "      <td>1</td>\n",
              "      <td>2</td>\n",
              "      <td>110</td>\n",
              "    </tr>\n",
              "    <tr>\n",
              "      <th>4</th>\n",
              "      <td>C_5</td>\n",
              "      <td>24</td>\n",
              "      <td>4</td>\n",
              "      <td>2</td>\n",
              "      <td>280</td>\n",
              "    </tr>\n",
              "  </tbody>\n",
              "</table>\n",
              "</div>"
            ],
            "text/plain": [
              "  Customer  Candies (#)  Mangoes (Kg)  Milk Packets (#)  Payment (Rs)\n",
              "0      C_1           20             6                 2           386\n",
              "1      C_2           16             3                 6           289\n",
              "2      C_3           27             6                 2           393\n",
              "3      C_4           19             1                 2           110\n",
              "4      C_5           24             4                 2           280"
            ]
          },
          "execution_count": 21,
          "metadata": {},
          "output_type": "execute_result"
        }
      ],
      "source": [
        "L1_dataframe.head()"
      ]
    },
    {
      "cell_type": "code",
      "execution_count": 25,
      "metadata": {
        "colab": {
          "base_uri": "https://localhost:8080/"
        },
        "id": "qeVhaETvApFk",
        "outputId": "f40962fb-cdd9-4f37-e9b3-80dfd98f29bd"
      },
      "outputs": [
        {
          "name": "stdout",
          "output_type": "stream",
          "text": [
            "time taken using matrix inversion :  0.008019685745239258\n"
          ]
        }
      ],
      "source": [
        "# using matrix inversion:\n",
        "\n",
        "A = L1_dataframe[['Candies (#)','Mangoes (Kg)','Milk Packets (#)']]\n",
        "B = L1_dataframe[['Payment (Rs)']]\n",
        "\n",
        "Start_time = time.time()\n",
        "Ain = np.linalg.pinv(A)\n",
        "X = np.dot(Ain,B)\n",
        "End_time = time.time()\n",
        "Time_taken=End_time-Start_time\n",
        "\n",
        "print(\"time taken using matrix inversion : \",Time_taken)"
      ]
    },
    {
      "cell_type": "code",
      "execution_count": null,
      "metadata": {
        "colab": {
          "base_uri": "https://localhost:8080/"
        },
        "id": "wB2slgugJGjA",
        "outputId": "16e4d2b9-ded3-419c-ec92-32de664a63b5"
      },
      "outputs": [
        {
          "data": {
            "text/plain": [
              "array([[ 1.],\n",
              "       [55.],\n",
              "       [18.]])"
            ]
          },
          "execution_count": 40,
          "metadata": {},
          "output_type": "execute_result"
        }
      ],
      "source": [
        "X"
      ]
    },
    {
      "cell_type": "code",
      "execution_count": null,
      "metadata": {
        "colab": {
          "base_uri": "https://localhost:8080/",
          "height": 310
        },
        "id": "glbKJR0wBtoq",
        "outputId": "f4f75373-5dc1-4c94-a65e-3bd119492b79"
      },
      "outputs": [
        {
          "data": {
            "image/png": "[encoded data removed]",
            "text/plain": [
              "<Figure size 432x288 with 1 Axes>"
            ]
          },
          "metadata": {
            "needs_background": "light"
          },
          "output_type": "display_data"
        },
        {
          "name": "stdout",
          "output_type": "stream",
          "text": [
            "Time taken by perceptron :  0.018382787704467773\n",
            "weights ==> w0 :  -5.512515357708273e+45  w1 :  -1.0146028551405357e+45  w2 :  -1.5263557771905693e+45\n"
          ]
        }
      ],
      "source": [
        "# using perceptron:\n",
        "w0 = 1\n",
        "w1 = 54\n",
        "w2 = 18\n",
        "\n",
        "learning_rate = 0.01\n",
        "\n",
        "epoch_count = 0\n",
        "epoches = []\n",
        "sum_square_error = []\n",
        "\n",
        "start = time.time()\n",
        "while epoch_count<10:\n",
        "  error = 0\n",
        "  for index,row in L1_dataframe.iterrows():\n",
        "    if summation_unit(row['Candies (#)'],row['Mangoes (Kg)'],row['Milk Packets (#)'],w0,w1,w2) != row['Payment (Rs)']:\n",
        "      e = row['Payment (Rs)'] - summation_unit(row['Candies (#)'],row['Mangoes (Kg)'],row['Milk Packets (#)'],w0,w1,w2)\n",
        "      w0 += (learning_rate*e*row['Candies (#)'])\n",
        "      w1 += (learning_rate*e*row['Mangoes (Kg)'])\n",
        "      w2 += (learning_rate*e*row['Milk Packets (#)'])\n",
        "      error += e**2\n",
        "  epoches.append(epoch_count)\n",
        "  epoch_count += 1\n",
        "  sum_square_error.append(error)\n",
        "  if error<0.002:\n",
        "    print(\"epoch count : \",epoch_count)\n",
        "    break\n",
        "\n",
        "end = time.time()\n",
        "plt.plot(epoches,sum_square_error)\n",
        "plt.show()\n",
        "\n",
        "print(\"Time taken by perceptron : \",end-start)\n",
        "print(\"weights ==> w0 : \",w0,\" w1 : \",w1,\" w2 : \",w2)\n"
      ]
    },
    {
      "cell_type": "code",
      "execution_count": null,
      "metadata": {
        "colab": {
          "base_uri": "https://localhost:8080/"
        },
        "id": "QO2ArjrOIJSt",
        "outputId": "d2535743-53a1-43fb-859e-e9717d318c2a"
      },
      "outputs": [
        {
          "name": "stdout",
          "output_type": "stream",
          "text": [
            "calculated output :  0\n",
            "real output :  386\n",
            "calculated output :  0\n",
            "real output :  289\n",
            "calculated output :  0\n",
            "real output :  393\n",
            "calculated output :  0\n",
            "real output :  110\n",
            "calculated output :  0\n",
            "real output :  280\n",
            "calculated output :  0\n",
            "real output :  167\n",
            "calculated output :  0\n",
            "real output :  271\n",
            "calculated output :  0\n",
            "real output :  274\n",
            "calculated output :  0\n",
            "real output :  148\n",
            "calculated output :  0\n",
            "real output :  198\n"
          ]
        }
      ],
      "source": [
        "for index,row in L1_dataframe.iterrows():\n",
        "  print(\"calculated output : \",relu(summation_unit(row['Candies (#)'],row['Mangoes (Kg)'],row['Milk Packets (#)'],w0,w1,w2)))\n",
        "  print(\"real output : \",row['Payment (Rs)'])"
      ]
    },
    {
      "cell_type": "code",
      "execution_count": null,
      "metadata": {
        "id": "OoumGDsPJatq"
      },
      "outputs": [],
      "source": []
    }
  ],
  "metadata": {
    "colab": {
      "collapsed_sections": [],
      "provenance": []
    },
    "kernelspec": {
      "display_name": "Python 3.10.2 64-bit",
      "language": "python",
      "name": "python3"
    },
    "language_info": {
      "codemirror_mode": {
        "name": "ipython",
        "version": 3
      },
      "file_extension": ".py",
      "mimetype": "text/x-python",
      "name": "python",
      "nbconvert_exporter": "python",
      "pygments_lexer": "ipython3",
      "version": "3.10.2"
    },
    "vscode": {
      "interpreter": {
        "hash": "070028ba1342e166cb73fb497b35572113484a2ef1bea3a29a8945b00241d4de"
      }
    }
  },
  "nbformat": 4,
  "nbformat_minor": 0
}
